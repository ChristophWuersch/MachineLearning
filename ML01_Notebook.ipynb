{
 "cells": [
  {
   "cell_type": "markdown",
   "metadata": {},
   "source": [
    "<img src=\"Bilder/ntb.png\" width=\"240\" height=\"240\" align=\"left\"/>\n",
    "<div style=\"text-align: right\"> Machine Learning <br> FS 2019 <br> <a href=\"mailto:klaus.frick@ntb.ch\"> Klaus Frick </a> und <a href=\"mailto:christoph.wuersch@ntb.ch\"> Christoph Würsch </a> </div>"
   ]
  },
  {
   "cell_type": "markdown",
   "metadata": {},
   "source": [
    "# Lektion 1\n",
    "\n",
    "In dieser Lektion erleben Sie vielleicht Ihren ersten Kontakt mit der spannenden Welt des maschinellen Lernens. Sie lernen die verschiedenen Arten von Machine Learning kennen und können anhand konkreter Beispiele die breite Anwendungsmöglichkeiten dieser Technik beurteilen. Eine sinnvolle Beschäftigung mit Machine Learning geht aber über graue Theorie hinaus und bedeutet immer **praktisches Arbeiten mit Daten und Algorithmen**. Wir werden in diesem Kurs dies mithilfe der Programmiersprache `Python` bewerkstelligen. In dieser Lektion lernen Sie die Grundzüge der Sprache kennen und tauchen ein in die Welt der Datenanalyse mit Python. "
   ]
  },
  {
   "cell_type": "markdown",
   "metadata": {},
   "source": [
    "## Einführung in Python\n",
    "\n",
    "Die Programmiersprache Python wurde Ende der 80er Jahre von Guido van Rossum (Universität Amsterdam) ursprünglich für die Lehre entwickelt. Unter anderem aus diesem Grund zeichnet sich Python durch einen gut lesbaren Programmcode und eine intuitive Bedienung aus. Es handelt sich grundsätzlich um eine interpretierte Programiersprache, bei der Programmcode Zeile für Zeile von einem *interpreter* gelesen und ausgeführt wird. Dies steht z.B. im Gegensatz zu kompilierten Sprachen wie C/C++, die von einem *compiler* erst in Maschinencode übersetzt werden müssen. Python ist sehr vielseitig und *open source*, d.h. die Sprache kann von jedermann weiterentwickelt werden und der Quellcode steht offen.  \n",
    "\n",
    "Die Grundversion von Python (auf den Klassenzimmer PCs ist Python 3.6 installiert) beinhaltet lediglich die grundlegendsten Merkmale einer Programmiersprache. Es gibt z.B. nur einen sehr rudimentären Datentyp für Matrizen/Arrays im Kernmodul von Python (s. später). Die Stärke der Sprache zeigt sich vor allem durch die zahlreichen (hervorragenden) Packages, die es zu unterschiedlichen Themenbereichen gibt. Für die Data Science Community sind dies insbesondere folgende Pakete\n",
    "\n",
    "1. **NumPy** Dieses Paket bietet Funktionalitäten um effizient mit Vektoren, Matrizen und allgemein `ndarrays` umzugehen.\n",
    "2. **SciPy** bietet zahlreiche Werkzeuge für wissenschaftliches Rechnen.\n",
    "3. **Pandas** stellt das `DataFrame` Objekt zur Verfügung (eine Art abstrakte Excel Tabelle).\n",
    "4. **Matplotlb** bietet flexible Möglichkeiten zur Datenvisualisierung.\n",
    "5. **Scikit-learn** ist eine mächtige Bibliothek von machine learning Algorithmen und Data Analytics Methoden im Allgemeinen (Preprocessing, Dimensionsreduktion, ...)\n",
    "\n",
    "Diese Pakete bilden die Basis des *PyData Stacks*, einer ständig wachsenden Familie von Paketen im Umfeld von *Data Science*. \n",
    "\n",
    "<img src=\"Bilder/pydatastack.jpg\" width=\"700\" align=\"center\"/>\n",
    "\n",
    "Wir werden den Einstieg in den PyData Stack über das Paket `pandas` machen und die low-level Matrix-Bibliothek `numpy` (das Zentralmassiv wissenschaftlichen Rechnens mit Python) vorerst als gegeben annehmen und nur von Fall zu Fall genauer betrachten.\n",
    "\n",
    "Die Python Community ist gross und in den letzten Jahren stark gewachsen, sodass *crowd support* in grossem Stil vorliegt.  Python kann sehr gut mit C/C++ (Cython) oder Java (Jython) kombiniert werden und mit microPython liegt ein Python-interpreter für Microkontroller vor. Ausserdem: das **PI** in Raspberry-PI steht nicht umsonst für **P**ython **I**nterpreter. \n",
    "\n",
    "Python Tutorials und einführende Bücher gibt es wie Sand am Meer. Ich empfehle hier zwei Quellen (aus völlig subjektiver Gründen):\n",
    "\n",
    "- Intro to Python for Data Science (Video Tutorials) \n",
    "https://www.datacamp.com/courses/intro-to-python-for-data-science\n",
    "- Jake VanderPlas *A Whirlwind Tour of Python* https://github.com/jakevdp/WhirlwindTourOfPython\n",
    "\n",
    "Die Data Science community hat in den letzten Jahren Python immer mehr für sich entdeckt. Ein schönes Buch dazu ist ein treuer Begleiter von uns durch diesen Kurs:\n",
    "\n",
    "- Jake VanderPlas *Python Data Science Handbook* https://jakevdp.github.io/PythonDataScienceHandbook/\n",
    "\n",
    "Diese Quelle verwenden wir im Unterricht inflationär und für diese Lektion sollten Sie sich insbesondere Kapitel 3 des Buchs zu Gemüte führen. Sie finden das Kapitel als .pdf auf der Moodle-Plattform."
   ]
  },
  {
   "cell_type": "markdown",
   "metadata": {},
   "source": [
    "## IPython\n",
    "\n",
    "Als Programmiersprache im Sinne der Softwareentwicklung wird Python typischerweise in einer geeigneten Umgebung (IDLE, Spyder, PyCharm, Eclipse,...) entwickelt. Wir fokussieren uns aber eher auf *hacking* als auf Softwareentwicklung, sodass eine interaktive Bedienung von Python ähnlich wie in Matlab von Vorteil wäre. IPython (*Interactive Python*) bietet hier die Lösung. Wenn Sie auf Ihrem (Windows) PC Anaconda installiert haben und in der Suchleiste `IPython` eintippen bzw. dies bei unseren Klassenzimmer PCs tun, so öffnet sich eine Konsole und ein blinkender Cursor harrt Ihrer Eingabe. Dies ist die IPython Konsole und Sie können durch eintippen von Python Befehlen sequenziell Berechnungen ausführen. Im Bild unten ergibt die Eingabe `1+1` glücklicherweise `2`.\n",
    "\n",
    "<img src=\"Bilder/IPythonConsole.png\" width=\"700\" align=\"center\"/>\n",
    "\n",
    "Im typischen Data Mining/Statistik Projekten wollen Sie die Resultate und Plots Ihrer Analysen präsentieren und mit Kollegen, Kunden oder Vorgesetzten diskutieren. Dazu lässt sich IPython in Browser-basierte Notebooks einbetten, in denen neben dem ausführbaren (!) Code auch Kommentare, Formeln und Bilder gesetzt werden. Das Dokument, das Sie geraden lesen, ist so ein sogenanntes Jupyter Notebook. Bevor Sie ein Jupyter Notebook erstellen oder ein editieren können, müssen Sie im Windows Command Prompt `jupyter notebook` ausführen. \n",
    "\n",
    "Den Code in dem folgenden grauen Kasten können Sie ausführen, indem Sie hineinklicken und `Strg + Enter` drücken."
   ]
  },
  {
   "cell_type": "code",
   "execution_count": 3,
   "metadata": {},
   "outputs": [
    {
     "data": {
      "text/plain": [
       "3"
      ]
     },
     "execution_count": 3,
     "metadata": {},
     "output_type": "execute_result"
    }
   ],
   "source": [
    "1+2"
   ]
  },
  {
   "cell_type": "markdown",
   "metadata": {},
   "source": [
    "Natürlich kann Python viel mehr, als einen Taschenrechner zu simulieren. Von einfacher Variablenzuweisung und dem ausführen von Scripten über die Definition von Funktionen bis hin zu objektorientierter Programmierung mit Klassen: Python bietet eine Vielzahl an Möglichkeiten. Wir konzentrieren uns hier auf die Funktionalitäten für Data Science. "
   ]
  },
  {
   "cell_type": "code",
   "execution_count": 4,
   "metadata": {},
   "outputs": [
    {
     "data": {
      "text/plain": [
       "5"
      ]
     },
     "execution_count": 4,
     "metadata": {},
     "output_type": "execute_result"
    }
   ],
   "source": [
    "# eine Variablenzuweisung\n",
    "a = 1\n",
    "2*a + 3"
   ]
  },
  {
   "cell_type": "markdown",
   "metadata": {},
   "source": [
    "Bevor wir jetzt mit Numpy und Co. starten soll hier noch einer der grossen Vorteile von IPython gegenüber einer herkömmlichen Python Programmierung erwähnt werden: Zugang zu Hilfe und Quellcode. Sie können eine Kontexthilfe zu jedem Python Objekt (Funktionen, Klassen, etc.) bekommen, indem Sie `?` an den Befehl hängen. "
   ]
  },
  {
   "cell_type": "code",
   "execution_count": 5,
   "metadata": {
    "collapsed": true
   },
   "outputs": [],
   "source": [
    "len?"
   ]
  },
  {
   "cell_type": "markdown",
   "metadata": {},
   "source": [
    "Ausserdem bietet IPython Code Vervollständigung mit `<TAB>`. "
   ]
  },
  {
   "cell_type": "markdown",
   "metadata": {},
   "source": [
    "## Daten darstellen mit Python\n",
    "\n",
    "Wir haben festgestellt, dass eine Datenmatrix eine ideale Struktur darstellt, um Daten für weiterführende Analysen (Machine Learning & Co) aufzubereiten (*tidy data*). Wir lernen hier, wie dies in Python gemacht werden kann. Die Datenstrukturen, die im Basispaket von Python definiert sind, sind für (grosse) Datenmengen nicht geeignet. Pandas (**Pan**el **Da**ta) ist das Paket der Wahl, wenn grosse Datenmengen mit Python eingelesen, vorverarbeitet und visualisiert werden sollen. Das Paket baut auf der mächtigen Numpy Bibliothek auf, die wir aber vorerst als gegeben betrachten wollen und nicht genauer studieren werden. Falls wir spezielle Numpy-Befehle benötigen sollten, so werden wir von Fall zu Fall darauf eingehen. \n",
    "\n",
    "### Native Python Datenstrukuren\n",
    "\n",
    "Wie oben erwähnt, verfügt der Python-Kern bereits über Datencontainer, die zwar etwas unpraktisch für Machine Learning sind, aber dennoch nicht unerwähnt bleiben sollen. \n",
    "\n",
    "- **Listen** sind die Hauptdatenstruktur im Python Basispaket. Man kann sich unter Listen ein `array` vorstellen (wie z.B. in Java), nur das Listen unterschiedlichen Objekttypen beinhalten können (Zahlen, Strings, Boole'sche Variablen, ...). Listen werden in Python mit eckigen Klammern eingegeben; die einzelnen Elemente in der Liste werden durch ein Komma getrennt. Eine Datenmatrix, wie wir sie im Machine Learning benötigen, könnten z.B. als Liste von Listen realisiert werden, wobei die einzelnen Listeneinträge die Spalten der Datenmatrix wären. Dies ist aber sehr umständlich und in der Praxis irrelevant. "
   ]
  },
  {
   "cell_type": "code",
   "execution_count": 6,
   "metadata": {},
   "outputs": [
    {
     "name": "stdout",
     "output_type": "stream",
     "text": [
      "['Hello', 4.5, 2, True]\n",
      " \n",
      "[['Hans', 'Betty'], [34, 23], [175.6, 167.6]]\n"
     ]
    }
   ],
   "source": [
    "myList = [\"Hello\", 4.5, 2, True]\n",
    "print(myList)\n",
    "print(\" \")\n",
    "\n",
    "myDataMatrix = [[\"Hans\", \"Betty\"], [34, 23], [175.6, 167.6]]\n",
    "print(myDataMatrix)"
   ]
  },
  {
   "cell_type": "markdown",
   "metadata": {},
   "source": [
    "- **Dictionaries** sind Datencontainer, die aus key-value Paaren bestehen. Der *key* beschreibt den Namen des Eintrags und der zugehörige *value* den Wert. Die Paare werden mit der Syntax\n",
    "\n",
    "    'key-name': value\n",
    "    \n",
    "    eingegeben. Mehrere Paare werden durch ein Komma getrennt und alles zusammen in geschwungene Klammern gesetzt. Ein dictionary entspricht dem json-Datentyp, lässt sich als einfach als json-File speichern. Folgendes Beispiel zeigt, wie eine Datenmatrix (2 Elemente und 3 Merkmale) mit einem dictionary angelegt werden könnte.  "
   ]
  },
  {
   "cell_type": "code",
   "execution_count": 7,
   "metadata": {},
   "outputs": [
    {
     "name": "stdout",
     "output_type": "stream",
     "text": [
      "{'Name': ['Hans', 'Betty'], 'Alter': [34, 23], 'Groesse': [175.6, 167.6]}\n"
     ]
    }
   ],
   "source": [
    "myDict = {'Name': [\"Hans\", \"Betty\"], 'Alter': [34, 23], 'Groesse': [175.6, 167.6]}\n",
    "print(myDict)"
   ]
  },
  {
   "cell_type": "markdown",
   "metadata": {},
   "source": [
    "Beide der oben genannten Datenstrukuren haben in der Praxis grosse Bedeutung; im Maschinellen Lernen eignen sie sich aber nur bedingt, um Datenmatrizen darzustellen. Der Grund liegt hauptsächlich in der ineffizienten Datenablage intern, die von der grossen Freiheit der Verwendung von Listen bzw. Dictionaries herrührt. Wir werden nun lernen, wie die Pandas Bibliothek dieses Problem mit der Datenstruktur `DataFrame` sehr elegant löst."
   ]
  },
  {
   "cell_type": "markdown",
   "metadata": {},
   "source": [
    "## Pandas\n",
    "\n",
    "Wer sich mit Data Science und Statistik ernsthaft auseinandersetzt, der wird feststellen, dass Daten in einer grossen Bandbreite an verschiedenen Typen vorkommen: Bilder, Soundfiles, Dokumente, Sensordaten, Zeitreihen, etc. Nach angestrengtem Hinsehen, lassen sich diese Datentypen alle als mehrdimensionale Arrays darstellen. Dies ist immer der erste Schritt in jeder Analyse. Bei gesampelten Soundfiles (1 dimensionales Array) und digitalen Bildern (2 dimensionales Array) ist das offensichtlich. Für Textdokumente müssen typischerweise erst geeignet Merkmale kodiert werden (Wortanzahl, Anzahl Sonderzeichen, Verteilung der Zahl direkt aufeinanderfolgender Grossbuchstaben, etc.). Schlussendlich ziehlt man auf eine Datenstruktur in der dritten Normalform (*tidy data*) ab, wie wir es in der Vorlesung gelernt haben.  \n",
    "\n",
    "Die Bibliothek `Pandas` baut auf `Numpy` auf und stellt die Struktur des `DataFrame` zur Verfügung (nachempfunden der gleichnamigen Struktur in `R`). Man kann sich darunter am besten ein zweidimensionales Array vorstellen, das in zweierlei Hinsicht speziell an die Bedürfnisse von Data Science angepasst wurde:\n",
    "\n",
    "1. Ein `DataFrame` kann als 2 dimensionales Array betrachtet werden, das von Spalte zu Spalte den Datentyp ändern kann (Integer, String, ...)\n",
    "2. Sowohl die Spalten- als auch die Zeilenindizierung kann frei gewählt werden (Spalten- und Zeilennamen)\n",
    "\n",
    "Man kann sich auch eine abstrakte Excel-Tabelle denken und Pandas bietet eine grose Bandbreite zur Modifikation und Verarbeitung dieser Tabellen (SQL-artige abfragen, I/O Routinen z.B. für .csv und .xls Dateien etc.) In der Sprache der Statistik bilden deie einzelnen Spalten des `DataFrame` die Mermale und die einzelnen Werte pro Zeile die Merkmalsausprägungen. Ein `DataFrame` entspricht also genau unserer Definition von *tidy data*.\n",
    "\n",
    "Wir importieren zunächst das `Pandas` Paket und nennen es um in `pd`. Wir schauen uns auch gleich die Versionsnummer des Pakets an."
   ]
  },
  {
   "cell_type": "code",
   "execution_count": 8,
   "metadata": {},
   "outputs": [
    {
     "data": {
      "text/plain": [
       "'0.20.1'"
      ]
     },
     "execution_count": 8,
     "metadata": {},
     "output_type": "execute_result"
    }
   ],
   "source": [
    "import pandas as pd\n",
    "pd.__version__"
   ]
  },
  {
   "cell_type": "markdown",
   "metadata": {},
   "source": [
    "Das Paket bietet insgesamt drei fundamentale Datenstrukturen, die zur Verarbeitung von Daten verwendet werden können:\n",
    "\n",
    "- `Series`: Dabei handelt es sich um ein eindimensionales Array von Daten. Im Gegensatz zu einem herkömmlichen Array (wie z.B. in `Numpy`) sind bei  einem `Series` Objekt allerdings die Einträge *indiziert*.   \n",
    "- `DataFrame`: Wie oben beschrieben, ist ein `DataFrame` eine Verallgemeinerung eines zweidimensionales Arrays. Konkret besteht es aus zusammengehörigen `Series` Objekten, d.h. zusammengehörigen Elemente in den einzelnen `Series` Objekte habe den gleichen Index.  \n",
    "- `Index`: Es handelt sich im Wesentlichen um ein unveränderbares eindimensionales Array.\n",
    "\n",
    "\n",
    "### Series\n",
    "\n",
    "Wir erzeugen zuerst ein Series Objekt aus einer einfachen Python Liste. Wir nehmen an, dass es sich um das Alter 4 fiktiver Personen handelt."
   ]
  },
  {
   "cell_type": "code",
   "execution_count": 9,
   "metadata": {},
   "outputs": [
    {
     "data": {
      "text/plain": [
       "0    25\n",
       "1    31\n",
       "2    49\n",
       "3    17\n",
       "dtype: int64"
      ]
     },
     "execution_count": 9,
     "metadata": {},
     "output_type": "execute_result"
    }
   ],
   "source": [
    "age = pd.Series([25, 31, 49, 17])\n",
    "age"
   ]
  },
  {
   "cell_type": "markdown",
   "metadata": {},
   "source": [
    "Wie hier ersichtlich wird, hat das `Series` Objekt sowohl Werte als auch Indizes (von `0` bis `3`). Auf die Daten und die Indizes kann mit `.values` und `.index` extra zugegriffen werden. "
   ]
  },
  {
   "cell_type": "code",
   "execution_count": 10,
   "metadata": {},
   "outputs": [
    {
     "data": {
      "text/plain": [
       "array([25, 31, 49, 17], dtype=int64)"
      ]
     },
     "execution_count": 10,
     "metadata": {},
     "output_type": "execute_result"
    }
   ],
   "source": [
    "age.values"
   ]
  },
  {
   "cell_type": "markdown",
   "metadata": {},
   "source": [
    "Es kann auf die einzelnen Werte auch direkt mittels Index in eckiger Klammer zugegriffen werden."
   ]
  },
  {
   "cell_type": "code",
   "execution_count": 11,
   "metadata": {},
   "outputs": [
    {
     "data": {
      "text/plain": [
       "17"
      ]
     },
     "execution_count": 11,
     "metadata": {},
     "output_type": "execute_result"
    }
   ],
   "source": [
    "age[3]"
   ]
  },
  {
   "cell_type": "markdown",
   "metadata": {},
   "source": [
    "Das schöne an `Series` Objekten (und später auch bei `DataFrames`) ist jedoch, dass sich viel allgemeinere Indizes definieren lassen. Z.B. könnten wir die Namen der Personen als Index verwenden."
   ]
  },
  {
   "cell_type": "code",
   "execution_count": 12,
   "metadata": {},
   "outputs": [
    {
     "data": {
      "text/plain": [
       "Paul      25\n",
       "Sophie    31\n",
       "Sepp      49\n",
       "Petra     17\n",
       "dtype: int64"
      ]
     },
     "execution_count": 12,
     "metadata": {},
     "output_type": "execute_result"
    }
   ],
   "source": [
    "age = pd.Series([25, 31, 49, 17], index=['Paul', 'Sophie', 'Sepp', 'Petra'])\n",
    "age"
   ]
  },
  {
   "cell_type": "markdown",
   "metadata": {},
   "source": [
    "Auf die Einträge kann jetzt über die neuen Indizes zugegriffen werden. Hier ein Breispiel"
   ]
  },
  {
   "cell_type": "code",
   "execution_count": 13,
   "metadata": {},
   "outputs": [
    {
     "data": {
      "text/plain": [
       "Sophie    31\n",
       "Sepp      49\n",
       "Petra     17\n",
       "dtype: int64"
      ]
     },
     "execution_count": 13,
     "metadata": {},
     "output_type": "execute_result"
    }
   ],
   "source": [
    "age['Sophie':'Petra']"
   ]
  },
  {
   "cell_type": "markdown",
   "metadata": {},
   "source": [
    "### Data Frames\n",
    "\n",
    "Ein `DataFrame` Objekt kann (u.a.) aus mehreren `Series` Objekten konstruiert werden. Wir definierne noch eine weiteres solches `Series`-Objekt und fügen es dann zu einem `DataFrame` zusammen. Dies geschieht über ein Dictionary."
   ]
  },
  {
   "cell_type": "code",
   "execution_count": 14,
   "metadata": {},
   "outputs": [
    {
     "data": {
      "text/html": [
       "<div>\n",
       "<style>\n",
       "    .dataframe thead tr:only-child th {\n",
       "        text-align: right;\n",
       "    }\n",
       "\n",
       "    .dataframe thead th {\n",
       "        text-align: left;\n",
       "    }\n",
       "\n",
       "    .dataframe tbody tr th {\n",
       "        vertical-align: top;\n",
       "    }\n",
       "</style>\n",
       "<table border=\"1\" class=\"dataframe\">\n",
       "  <thead>\n",
       "    <tr style=\"text-align: right;\">\n",
       "      <th></th>\n",
       "      <th>Alter</th>\n",
       "      <th>Nationalität</th>\n",
       "    </tr>\n",
       "  </thead>\n",
       "  <tbody>\n",
       "    <tr>\n",
       "      <th>Paul</th>\n",
       "      <td>25</td>\n",
       "      <td>Swiss</td>\n",
       "    </tr>\n",
       "    <tr>\n",
       "      <th>Sophie</th>\n",
       "      <td>31</td>\n",
       "      <td>Austrian</td>\n",
       "    </tr>\n",
       "    <tr>\n",
       "      <th>Sepp</th>\n",
       "      <td>49</td>\n",
       "      <td>Swiss</td>\n",
       "    </tr>\n",
       "    <tr>\n",
       "      <th>Petra</th>\n",
       "      <td>17</td>\n",
       "      <td>Swiss</td>\n",
       "    </tr>\n",
       "  </tbody>\n",
       "</table>\n",
       "</div>"
      ],
      "text/plain": [
       "        Alter Nationalität\n",
       "Paul       25        Swiss\n",
       "Sophie     31     Austrian\n",
       "Sepp       49        Swiss\n",
       "Petra      17        Swiss"
      ]
     },
     "execution_count": 14,
     "metadata": {},
     "output_type": "execute_result"
    }
   ],
   "source": [
    "nationality = pd.Series(['Swiss', 'Austrian', 'Swiss', 'Swiss'], index=['Paul', 'Sophie', 'Sepp', 'Petra'])\n",
    "demo_data = pd.DataFrame({'Alter': age, 'Nationalität': nationality})\n",
    "demo_data"
   ]
  },
  {
   "cell_type": "markdown",
   "metadata": {},
   "source": [
    "Es ist entscheidend, dass die verwendeten `Series`-Objekte die gleiche Anzahl von Elementen besitzen. Dies ist z.B. bei dictionaries nicht nötig, weshalb diese Objekte für Machine Learning & Co zu allgemein sein. Falls ein Dictionary jedoch die korrekte Strukur hat, kann daraus leicht ein `DataFrame` erzeugt werden. Wir zeigen dies, an unserem Beispiel-Dictionary von oben."
   ]
  },
  {
   "cell_type": "code",
   "execution_count": 15,
   "metadata": {},
   "outputs": [
    {
     "data": {
      "text/html": [
       "<div>\n",
       "<style>\n",
       "    .dataframe thead tr:only-child th {\n",
       "        text-align: right;\n",
       "    }\n",
       "\n",
       "    .dataframe thead th {\n",
       "        text-align: left;\n",
       "    }\n",
       "\n",
       "    .dataframe tbody tr th {\n",
       "        vertical-align: top;\n",
       "    }\n",
       "</style>\n",
       "<table border=\"1\" class=\"dataframe\">\n",
       "  <thead>\n",
       "    <tr style=\"text-align: right;\">\n",
       "      <th></th>\n",
       "      <th>Alter</th>\n",
       "      <th>Groesse</th>\n",
       "      <th>Name</th>\n",
       "    </tr>\n",
       "  </thead>\n",
       "  <tbody>\n",
       "    <tr>\n",
       "      <th>0</th>\n",
       "      <td>34</td>\n",
       "      <td>175.6</td>\n",
       "      <td>Hans</td>\n",
       "    </tr>\n",
       "    <tr>\n",
       "      <th>1</th>\n",
       "      <td>23</td>\n",
       "      <td>167.6</td>\n",
       "      <td>Betty</td>\n",
       "    </tr>\n",
       "  </tbody>\n",
       "</table>\n",
       "</div>"
      ],
      "text/plain": [
       "   Alter  Groesse   Name\n",
       "0     34    175.6   Hans\n",
       "1     23    167.6  Betty"
      ]
     },
     "execution_count": 15,
     "metadata": {},
     "output_type": "execute_result"
    }
   ],
   "source": [
    "df = pd.DataFrame(myDict)\n",
    "df"
   ]
  },
  {
   "cell_type": "markdown",
   "metadata": {},
   "source": [
    "Das Eingeben von Data Frames per Hand ist mühsam und spielt auch in der Praxis eine untergeordnete Rolle. Die Funktion `pd.read_csv(filename)` liest ein .csv File und verwendet die Bezeichnungen im Header (1. Zeile) als Bezeichner für die Spalten. Wir werden dazu den Datensatz `gapminder.csv` verwenden. Er stammt von dem Gapminder Projekt des schwedischen Wissenschaftlers Hans Roslin (1948-2017).\n",
    "\n",
    "https://www.gapminder.org/\n",
    "\n",
    "In dem Projekt wurden über 500 demographische Merkmale aus jedem Land der Erde aus den letzten Jahrzehnten gesammelt. Wir betrachten einen kleinen Ausschnitt davon:\n",
    "\n",
    "- `Country`: Land\n",
    "- `year`: Jahr der Datenerfassung\n",
    "- `fertility`: Anzahl der Geburten pro Frau\n",
    "- `life`: Durchschnittliche Lebenserwartung\n",
    "- `population`: Bevölkerungszahl\n",
    "- `child_mortality`: Kindersterblichkeit\n",
    "- `gdp`: Durchschnittliches Pro-Kopf-Einkommen in Dollar\n",
    "- `region`: Kontinent\n",
    "\n",
    "Der Datensatz kann mittels des `read_csv` Befehls eingelesen werden. "
   ]
  },
  {
   "cell_type": "code",
   "execution_count": 16,
   "metadata": {},
   "outputs": [
    {
     "data": {
      "text/html": [
       "<div>\n",
       "<style>\n",
       "    .dataframe thead tr:only-child th {\n",
       "        text-align: right;\n",
       "    }\n",
       "\n",
       "    .dataframe thead th {\n",
       "        text-align: left;\n",
       "    }\n",
       "\n",
       "    .dataframe tbody tr th {\n",
       "        vertical-align: top;\n",
       "    }\n",
       "</style>\n",
       "<table border=\"1\" class=\"dataframe\">\n",
       "  <thead>\n",
       "    <tr style=\"text-align: right;\">\n",
       "      <th></th>\n",
       "      <th>Country</th>\n",
       "      <th>Year</th>\n",
       "      <th>fertility</th>\n",
       "      <th>life</th>\n",
       "      <th>population</th>\n",
       "      <th>child_mortality</th>\n",
       "      <th>gdp</th>\n",
       "      <th>region</th>\n",
       "    </tr>\n",
       "  </thead>\n",
       "  <tbody>\n",
       "    <tr>\n",
       "      <th>0</th>\n",
       "      <td>Afghanistan</td>\n",
       "      <td>1964</td>\n",
       "      <td>7.671</td>\n",
       "      <td>33.639</td>\n",
       "      <td>10474903.0</td>\n",
       "      <td>339.7</td>\n",
       "      <td>1182.0</td>\n",
       "      <td>South Asia</td>\n",
       "    </tr>\n",
       "    <tr>\n",
       "      <th>1</th>\n",
       "      <td>Afghanistan</td>\n",
       "      <td>1965</td>\n",
       "      <td>7.671</td>\n",
       "      <td>34.152</td>\n",
       "      <td>10697983.0</td>\n",
       "      <td>334.1</td>\n",
       "      <td>1182.0</td>\n",
       "      <td>South Asia</td>\n",
       "    </tr>\n",
       "    <tr>\n",
       "      <th>2</th>\n",
       "      <td>Afghanistan</td>\n",
       "      <td>1966</td>\n",
       "      <td>7.671</td>\n",
       "      <td>34.662</td>\n",
       "      <td>10927724.0</td>\n",
       "      <td>328.7</td>\n",
       "      <td>1168.0</td>\n",
       "      <td>South Asia</td>\n",
       "    </tr>\n",
       "    <tr>\n",
       "      <th>3</th>\n",
       "      <td>Afghanistan</td>\n",
       "      <td>1967</td>\n",
       "      <td>7.671</td>\n",
       "      <td>35.170</td>\n",
       "      <td>11163656.0</td>\n",
       "      <td>323.3</td>\n",
       "      <td>1173.0</td>\n",
       "      <td>South Asia</td>\n",
       "    </tr>\n",
       "    <tr>\n",
       "      <th>4</th>\n",
       "      <td>Afghanistan</td>\n",
       "      <td>1968</td>\n",
       "      <td>7.671</td>\n",
       "      <td>35.674</td>\n",
       "      <td>11411022.0</td>\n",
       "      <td>318.1</td>\n",
       "      <td>1187.0</td>\n",
       "      <td>South Asia</td>\n",
       "    </tr>\n",
       "  </tbody>\n",
       "</table>\n",
       "</div>"
      ],
      "text/plain": [
       "       Country  Year  fertility    life  population  child_mortality     gdp  \\\n",
       "0  Afghanistan  1964      7.671  33.639  10474903.0            339.7  1182.0   \n",
       "1  Afghanistan  1965      7.671  34.152  10697983.0            334.1  1182.0   \n",
       "2  Afghanistan  1966      7.671  34.662  10927724.0            328.7  1168.0   \n",
       "3  Afghanistan  1967      7.671  35.170  11163656.0            323.3  1173.0   \n",
       "4  Afghanistan  1968      7.671  35.674  11411022.0            318.1  1187.0   \n",
       "\n",
       "       region  \n",
       "0  South Asia  \n",
       "1  South Asia  \n",
       "2  South Asia  \n",
       "3  South Asia  \n",
       "4  South Asia  "
      ]
     },
     "execution_count": 16,
     "metadata": {},
     "output_type": "execute_result"
    }
   ],
   "source": [
    "GM = pd.read_csv(\"Data/gapminder.csv\")\n",
    "GM.head()"
   ]
  },
  {
   "cell_type": "markdown",
   "metadata": {},
   "source": [
    "Der Befehl `head(n)` gibt die ersten n Zeilen des Datensatzes aus (default: n=5). Wir sehen z.B., dass Python die Standardindizierung (beginnend mit 0) benutzt. Später werden wir die Indizierung noch etwas sinnvoller gestalten. \n",
    "\n",
    "Bereits bei diesem einfachen Befehl wird ein Grundprinzip der Python-Sprache bereits sehr offensichtlich: **Objektorientierung**. Konkret bedeutet dies, dass `GM` nicht einfach nur eine Tabelle ist, sondern eine Klasse mit zahlreichen *Methoden*. Diese Methoden sind Funktionen, die sich auf das Datenfeld in `GM` beziehen. Beispielsweise macht der Befehl\n",
    "\n",
    "`GM.head()`\n",
    "\n",
    "nichts anderes, als in seinem eigenen Datenfeld die ersten 5 Zeilen zu holen und (ansprechend) auszugeben. Es gibt extrem viele Methoden in der `DataFrame`-Klasse, die zur Zusammenfassung, Beschreibung, Transformation und Visualisierung der Daten genutzt werden können. Wir werden nach und nach einige dieser Funktionen kennenlernen. \n",
    "\n",
    "Meistens beginnt man damit, die Grösse des Datenframes auszugeben. Dies geschieht mit dem Aufruf `shape`. Es handelt sich dabei nicht um eine Methode, sondern um ein Datenfeld (2-Tuple), weshalb keine Klammern gesetzt werden."
   ]
  },
  {
   "cell_type": "code",
   "execution_count": 17,
   "metadata": {},
   "outputs": [
    {
     "data": {
      "text/plain": [
       "(10111, 8)"
      ]
     },
     "execution_count": 17,
     "metadata": {},
     "output_type": "execute_result"
    }
   ],
   "source": [
    "GM.shape"
   ]
  },
  {
   "cell_type": "markdown",
   "metadata": {},
   "source": [
    "Wir haben also 10111 Elemente in unserer Stichprobe und 8 Merkmale. Sehr praktisch ist der `.describe()` Befehl, der eine Zusammenfassung der quantitativen Merkmale im Datensatz gibt (beim Merkmal `Year` macht dies ev. wenig Sinn):"
   ]
  },
  {
   "cell_type": "code",
   "execution_count": 18,
   "metadata": {},
   "outputs": [
    {
     "data": {
      "text/html": [
       "<div>\n",
       "<style>\n",
       "    .dataframe thead tr:only-child th {\n",
       "        text-align: right;\n",
       "    }\n",
       "\n",
       "    .dataframe thead th {\n",
       "        text-align: left;\n",
       "    }\n",
       "\n",
       "    .dataframe tbody tr th {\n",
       "        vertical-align: top;\n",
       "    }\n",
       "</style>\n",
       "<table border=\"1\" class=\"dataframe\">\n",
       "  <thead>\n",
       "    <tr style=\"text-align: right;\">\n",
       "      <th></th>\n",
       "      <th>Year</th>\n",
       "      <th>fertility</th>\n",
       "      <th>life</th>\n",
       "      <th>population</th>\n",
       "      <th>child_mortality</th>\n",
       "      <th>gdp</th>\n",
       "    </tr>\n",
       "  </thead>\n",
       "  <tbody>\n",
       "    <tr>\n",
       "      <th>count</th>\n",
       "      <td>10111.000000</td>\n",
       "      <td>10100.000000</td>\n",
       "      <td>10111.000000</td>\n",
       "      <td>1.010800e+04</td>\n",
       "      <td>9210.000000</td>\n",
       "      <td>9000.000000</td>\n",
       "    </tr>\n",
       "    <tr>\n",
       "      <th>mean</th>\n",
       "      <td>1988.514588</td>\n",
       "      <td>4.028719</td>\n",
       "      <td>64.078600</td>\n",
       "      <td>2.560448e+07</td>\n",
       "      <td>80.834505</td>\n",
       "      <td>12746.916667</td>\n",
       "    </tr>\n",
       "    <tr>\n",
       "      <th>std</th>\n",
       "      <td>14.430849</td>\n",
       "      <td>2.013968</td>\n",
       "      <td>11.122779</td>\n",
       "      <td>1.032383e+08</td>\n",
       "      <td>79.220942</td>\n",
       "      <td>17797.809953</td>\n",
       "    </tr>\n",
       "    <tr>\n",
       "      <th>min</th>\n",
       "      <td>1964.000000</td>\n",
       "      <td>0.836000</td>\n",
       "      <td>6.000000</td>\n",
       "      <td>1.170000e+03</td>\n",
       "      <td>2.000000</td>\n",
       "      <td>142.000000</td>\n",
       "    </tr>\n",
       "    <tr>\n",
       "      <th>25%</th>\n",
       "      <td>1976.000000</td>\n",
       "      <td>2.175750</td>\n",
       "      <td>56.282500</td>\n",
       "      <td>8.874062e+05</td>\n",
       "      <td>18.900000</td>\n",
       "      <td>2263.000000</td>\n",
       "    </tr>\n",
       "    <tr>\n",
       "      <th>50%</th>\n",
       "      <td>1989.000000</td>\n",
       "      <td>3.632500</td>\n",
       "      <td>67.157000</td>\n",
       "      <td>4.765781e+06</td>\n",
       "      <td>50.700000</td>\n",
       "      <td>6438.500000</td>\n",
       "    </tr>\n",
       "    <tr>\n",
       "      <th>75%</th>\n",
       "      <td>2001.000000</td>\n",
       "      <td>5.905250</td>\n",
       "      <td>72.484000</td>\n",
       "      <td>1.476995e+07</td>\n",
       "      <td>121.775000</td>\n",
       "      <td>15887.250000</td>\n",
       "    </tr>\n",
       "    <tr>\n",
       "      <th>max</th>\n",
       "      <td>2013.000000</td>\n",
       "      <td>9.223000</td>\n",
       "      <td>83.580000</td>\n",
       "      <td>1.359368e+09</td>\n",
       "      <td>435.800000</td>\n",
       "      <td>182668.000000</td>\n",
       "    </tr>\n",
       "  </tbody>\n",
       "</table>\n",
       "</div>"
      ],
      "text/plain": [
       "               Year     fertility          life    population  \\\n",
       "count  10111.000000  10100.000000  10111.000000  1.010800e+04   \n",
       "mean    1988.514588      4.028719     64.078600  2.560448e+07   \n",
       "std       14.430849      2.013968     11.122779  1.032383e+08   \n",
       "min     1964.000000      0.836000      6.000000  1.170000e+03   \n",
       "25%     1976.000000      2.175750     56.282500  8.874062e+05   \n",
       "50%     1989.000000      3.632500     67.157000  4.765781e+06   \n",
       "75%     2001.000000      5.905250     72.484000  1.476995e+07   \n",
       "max     2013.000000      9.223000     83.580000  1.359368e+09   \n",
       "\n",
       "       child_mortality            gdp  \n",
       "count      9210.000000    9000.000000  \n",
       "mean         80.834505   12746.916667  \n",
       "std          79.220942   17797.809953  \n",
       "min           2.000000     142.000000  \n",
       "25%          18.900000    2263.000000  \n",
       "50%          50.700000    6438.500000  \n",
       "75%         121.775000   15887.250000  \n",
       "max         435.800000  182668.000000  "
      ]
     },
     "execution_count": 18,
     "metadata": {},
     "output_type": "execute_result"
    }
   ],
   "source": [
    "GM.describe()"
   ]
  },
  {
   "cell_type": "markdown",
   "metadata": {},
   "source": [
    "### Auswahl von Elementen\n",
    "\n",
    "Die Indizierung von `DataFrame` Objekten ist sehr viellseitig und eine komplete Ausführung würde hier den Rahmen sprengen. Wir verweisen dafür auf Kapitel 3 im Buch von Jake VanderPlas *Python für Data Science*. Hier seien die grundlegenden Verfahren beschrieben. Die Indizierung kann analog zu einem `Numpy`-Array erfolgen. Hier ist zu beachten, dass der letzte Index *nicht* mehr ausgegeben wird, wie folgendes Beispiel eines *slices* zeigt:"
   ]
  },
  {
   "cell_type": "code",
   "execution_count": 19,
   "metadata": {},
   "outputs": [
    {
     "data": {
      "text/html": [
       "<div>\n",
       "<style>\n",
       "    .dataframe thead tr:only-child th {\n",
       "        text-align: right;\n",
       "    }\n",
       "\n",
       "    .dataframe thead th {\n",
       "        text-align: left;\n",
       "    }\n",
       "\n",
       "    .dataframe tbody tr th {\n",
       "        vertical-align: top;\n",
       "    }\n",
       "</style>\n",
       "<table border=\"1\" class=\"dataframe\">\n",
       "  <thead>\n",
       "    <tr style=\"text-align: right;\">\n",
       "      <th></th>\n",
       "      <th>Country</th>\n",
       "      <th>Year</th>\n",
       "      <th>fertility</th>\n",
       "      <th>life</th>\n",
       "      <th>population</th>\n",
       "      <th>child_mortality</th>\n",
       "      <th>gdp</th>\n",
       "      <th>region</th>\n",
       "    </tr>\n",
       "  </thead>\n",
       "  <tbody>\n",
       "    <tr>\n",
       "      <th>20</th>\n",
       "      <td>Afghanistan</td>\n",
       "      <td>1984</td>\n",
       "      <td>7.676</td>\n",
       "      <td>43.661</td>\n",
       "      <td>12931791.0</td>\n",
       "      <td>222.9</td>\n",
       "      <td>1429.0</td>\n",
       "      <td>South Asia</td>\n",
       "    </tr>\n",
       "    <tr>\n",
       "      <th>21</th>\n",
       "      <td>Afghanistan</td>\n",
       "      <td>1985</td>\n",
       "      <td>7.679</td>\n",
       "      <td>44.400</td>\n",
       "      <td>12625292.0</td>\n",
       "      <td>216.0</td>\n",
       "      <td>1384.0</td>\n",
       "      <td>South Asia</td>\n",
       "    </tr>\n",
       "    <tr>\n",
       "      <th>22</th>\n",
       "      <td>Afghanistan</td>\n",
       "      <td>1986</td>\n",
       "      <td>7.681</td>\n",
       "      <td>45.192</td>\n",
       "      <td>12372113.0</td>\n",
       "      <td>209.2</td>\n",
       "      <td>1486.0</td>\n",
       "      <td>South Asia</td>\n",
       "    </tr>\n",
       "    <tr>\n",
       "      <th>23</th>\n",
       "      <td>Afghanistan</td>\n",
       "      <td>1987</td>\n",
       "      <td>7.682</td>\n",
       "      <td>46.024</td>\n",
       "      <td>12183387.0</td>\n",
       "      <td>202.1</td>\n",
       "      <td>1230.0</td>\n",
       "      <td>South Asia</td>\n",
       "    </tr>\n",
       "  </tbody>\n",
       "</table>\n",
       "</div>"
      ],
      "text/plain": [
       "        Country  Year  fertility    life  population  child_mortality     gdp  \\\n",
       "20  Afghanistan  1984      7.676  43.661  12931791.0            222.9  1429.0   \n",
       "21  Afghanistan  1985      7.679  44.400  12625292.0            216.0  1384.0   \n",
       "22  Afghanistan  1986      7.681  45.192  12372113.0            209.2  1486.0   \n",
       "23  Afghanistan  1987      7.682  46.024  12183387.0            202.1  1230.0   \n",
       "\n",
       "        region  \n",
       "20  South Asia  \n",
       "21  South Asia  \n",
       "22  South Asia  \n",
       "23  South Asia  "
      ]
     },
     "execution_count": 19,
     "metadata": {},
     "output_type": "execute_result"
    }
   ],
   "source": [
    "GM[20:24]"
   ]
  },
  {
   "cell_type": "markdown",
   "metadata": {},
   "source": [
    "Der `DataFrame` im obigen Beispiel hat eine etwas eigentümliche Struktur im Sinne des Maschinellen Lernens. Die Ausprägungen des Merkmals `Country` sind streckenweise konstant, wobei jeweils Werte in verschiedenen Jahren angegeben werden. Rein formal entspricht der Datensatz so der gewünschten Form von *tidy data*, aber eigentlich sind `Country` und `Year` keine Merkmale, sondern *Indizes*. \n",
    "\n",
    "Wir machen dies deutlich, in dem wir zunächst die Daten eines Jahres auswählen. Dies kann einerseits über *logische* Bedingungen erfolgen. "
   ]
  },
  {
   "cell_type": "code",
   "execution_count": 20,
   "metadata": {},
   "outputs": [
    {
     "data": {
      "text/html": [
       "<div>\n",
       "<style>\n",
       "    .dataframe thead tr:only-child th {\n",
       "        text-align: right;\n",
       "    }\n",
       "\n",
       "    .dataframe thead th {\n",
       "        text-align: left;\n",
       "    }\n",
       "\n",
       "    .dataframe tbody tr th {\n",
       "        vertical-align: top;\n",
       "    }\n",
       "</style>\n",
       "<table border=\"1\" class=\"dataframe\">\n",
       "  <thead>\n",
       "    <tr style=\"text-align: right;\">\n",
       "      <th></th>\n",
       "      <th>Country</th>\n",
       "      <th>Year</th>\n",
       "      <th>fertility</th>\n",
       "      <th>life</th>\n",
       "      <th>population</th>\n",
       "      <th>child_mortality</th>\n",
       "      <th>gdp</th>\n",
       "      <th>region</th>\n",
       "    </tr>\n",
       "  </thead>\n",
       "  <tbody>\n",
       "    <tr>\n",
       "      <th>16</th>\n",
       "      <td>Afghanistan</td>\n",
       "      <td>1980</td>\n",
       "      <td>7.669</td>\n",
       "      <td>41.242</td>\n",
       "      <td>14185729.0</td>\n",
       "      <td>249.10</td>\n",
       "      <td>1158.0</td>\n",
       "      <td>South Asia</td>\n",
       "    </tr>\n",
       "    <tr>\n",
       "      <th>66</th>\n",
       "      <td>Albania</td>\n",
       "      <td>1980</td>\n",
       "      <td>3.678</td>\n",
       "      <td>70.218</td>\n",
       "      <td>2671300.0</td>\n",
       "      <td>78.60</td>\n",
       "      <td>4218.0</td>\n",
       "      <td>Europe &amp; Central Asia</td>\n",
       "    </tr>\n",
       "    <tr>\n",
       "      <th>116</th>\n",
       "      <td>Algeria</td>\n",
       "      <td>1980</td>\n",
       "      <td>6.889</td>\n",
       "      <td>58.198</td>\n",
       "      <td>18811199.0</td>\n",
       "      <td>148.00</td>\n",
       "      <td>10166.0</td>\n",
       "      <td>Middle East &amp; North Africa</td>\n",
       "    </tr>\n",
       "    <tr>\n",
       "      <th>166</th>\n",
       "      <td>Angola</td>\n",
       "      <td>1980</td>\n",
       "      <td>7.200</td>\n",
       "      <td>40.182</td>\n",
       "      <td>7638420.0</td>\n",
       "      <td>234.10</td>\n",
       "      <td>4443.0</td>\n",
       "      <td>Sub-Saharan Africa</td>\n",
       "    </tr>\n",
       "    <tr>\n",
       "      <th>216</th>\n",
       "      <td>Antigua and Barbuda</td>\n",
       "      <td>1980</td>\n",
       "      <td>2.115</td>\n",
       "      <td>68.873</td>\n",
       "      <td>70228.0</td>\n",
       "      <td>37.53</td>\n",
       "      <td>8169.0</td>\n",
       "      <td>America</td>\n",
       "    </tr>\n",
       "  </tbody>\n",
       "</table>\n",
       "</div>"
      ],
      "text/plain": [
       "                 Country  Year  fertility    life  population  \\\n",
       "16           Afghanistan  1980      7.669  41.242  14185729.0   \n",
       "66               Albania  1980      3.678  70.218   2671300.0   \n",
       "116              Algeria  1980      6.889  58.198  18811199.0   \n",
       "166               Angola  1980      7.200  40.182   7638420.0   \n",
       "216  Antigua and Barbuda  1980      2.115  68.873     70228.0   \n",
       "\n",
       "     child_mortality      gdp                      region  \n",
       "16            249.10   1158.0                  South Asia  \n",
       "66             78.60   4218.0       Europe & Central Asia  \n",
       "116           148.00  10166.0  Middle East & North Africa  \n",
       "166           234.10   4443.0          Sub-Saharan Africa  \n",
       "216            37.53   8169.0                     America  "
      ]
     },
     "execution_count": 20,
     "metadata": {},
     "output_type": "execute_result"
    }
   ],
   "source": [
    "GM_1980 = GM[GM['Year']==1980]\n",
    "GM_1980.head()"
   ]
  },
  {
   "cell_type": "markdown",
   "metadata": {},
   "source": [
    "Klarerweise ist jetzt das Merkmal `Year` überflüssig. Wir entfernen die Spalte mit `drop`"
   ]
  },
  {
   "cell_type": "code",
   "execution_count": 21,
   "metadata": {},
   "outputs": [
    {
     "data": {
      "text/html": [
       "<div>\n",
       "<style>\n",
       "    .dataframe thead tr:only-child th {\n",
       "        text-align: right;\n",
       "    }\n",
       "\n",
       "    .dataframe thead th {\n",
       "        text-align: left;\n",
       "    }\n",
       "\n",
       "    .dataframe tbody tr th {\n",
       "        vertical-align: top;\n",
       "    }\n",
       "</style>\n",
       "<table border=\"1\" class=\"dataframe\">\n",
       "  <thead>\n",
       "    <tr style=\"text-align: right;\">\n",
       "      <th></th>\n",
       "      <th>fertility</th>\n",
       "      <th>life</th>\n",
       "      <th>population</th>\n",
       "      <th>child_mortality</th>\n",
       "      <th>gdp</th>\n",
       "    </tr>\n",
       "  </thead>\n",
       "  <tbody>\n",
       "    <tr>\n",
       "      <th>count</th>\n",
       "      <td>202.000000</td>\n",
       "      <td>202.000000</td>\n",
       "      <td>2.020000e+02</td>\n",
       "      <td>189.000000</td>\n",
       "      <td>180.000000</td>\n",
       "    </tr>\n",
       "    <tr>\n",
       "      <th>mean</th>\n",
       "      <td>4.520273</td>\n",
       "      <td>62.060974</td>\n",
       "      <td>2.204167e+07</td>\n",
       "      <td>95.089577</td>\n",
       "      <td>12796.061111</td>\n",
       "    </tr>\n",
       "    <tr>\n",
       "      <th>std</th>\n",
       "      <td>2.059417</td>\n",
       "      <td>10.488236</td>\n",
       "      <td>8.793888e+07</td>\n",
       "      <td>80.586959</td>\n",
       "      <td>21997.774776</td>\n",
       "    </tr>\n",
       "    <tr>\n",
       "      <th>min</th>\n",
       "      <td>1.454000</td>\n",
       "      <td>26.000000</td>\n",
       "      <td>5.020800e+04</td>\n",
       "      <td>8.500000</td>\n",
       "      <td>499.000000</td>\n",
       "    </tr>\n",
       "    <tr>\n",
       "      <th>25%</th>\n",
       "      <td>2.386250</td>\n",
       "      <td>54.460250</td>\n",
       "      <td>7.912948e+05</td>\n",
       "      <td>28.700000</td>\n",
       "      <td>2231.000000</td>\n",
       "    </tr>\n",
       "    <tr>\n",
       "      <th>50%</th>\n",
       "      <td>4.691000</td>\n",
       "      <td>65.322000</td>\n",
       "      <td>4.118194e+06</td>\n",
       "      <td>66.400000</td>\n",
       "      <td>6308.000000</td>\n",
       "    </tr>\n",
       "    <tr>\n",
       "      <th>75%</th>\n",
       "      <td>6.438750</td>\n",
       "      <td>70.326500</td>\n",
       "      <td>1.347318e+07</td>\n",
       "      <td>155.200000</td>\n",
       "      <td>15926.250000</td>\n",
       "    </tr>\n",
       "    <tr>\n",
       "      <th>max</th>\n",
       "      <td>8.993000</td>\n",
       "      <td>76.660000</td>\n",
       "      <td>9.831706e+08</td>\n",
       "      <td>330.930000</td>\n",
       "      <td>182668.000000</td>\n",
       "    </tr>\n",
       "  </tbody>\n",
       "</table>\n",
       "</div>"
      ],
      "text/plain": [
       "        fertility        life    population  child_mortality            gdp\n",
       "count  202.000000  202.000000  2.020000e+02       189.000000     180.000000\n",
       "mean     4.520273   62.060974  2.204167e+07        95.089577   12796.061111\n",
       "std      2.059417   10.488236  8.793888e+07        80.586959   21997.774776\n",
       "min      1.454000   26.000000  5.020800e+04         8.500000     499.000000\n",
       "25%      2.386250   54.460250  7.912948e+05        28.700000    2231.000000\n",
       "50%      4.691000   65.322000  4.118194e+06        66.400000    6308.000000\n",
       "75%      6.438750   70.326500  1.347318e+07       155.200000   15926.250000\n",
       "max      8.993000   76.660000  9.831706e+08       330.930000  182668.000000"
      ]
     },
     "execution_count": 21,
     "metadata": {},
     "output_type": "execute_result"
    }
   ],
   "source": [
    "GM_1980 = GM_1980.drop('Year', axis=1)\n",
    "GM_1980.describe()"
   ]
  },
  {
   "cell_type": "markdown",
   "metadata": {},
   "source": [
    "Der Name des Landes ist eher ein Index als ein Merkmal (technisch gesehen ist der Name `Afghanistan` ein Merkmal des Landes Afghanistan, aber es beinhaltet keine statistisch relevante Information). Wir setzen also den Index auf den Namen des Landes (wir gehen davon aus, dass der Name eindeutig ist, d.h. das es nicht zwei unterschiedliche Länder mit dem Namen Afghanistan gibt o.ä.)"
   ]
  },
  {
   "cell_type": "code",
   "execution_count": 22,
   "metadata": {},
   "outputs": [
    {
     "data": {
      "text/html": [
       "<div>\n",
       "<style>\n",
       "    .dataframe thead tr:only-child th {\n",
       "        text-align: right;\n",
       "    }\n",
       "\n",
       "    .dataframe thead th {\n",
       "        text-align: left;\n",
       "    }\n",
       "\n",
       "    .dataframe tbody tr th {\n",
       "        vertical-align: top;\n",
       "    }\n",
       "</style>\n",
       "<table border=\"1\" class=\"dataframe\">\n",
       "  <thead>\n",
       "    <tr style=\"text-align: right;\">\n",
       "      <th></th>\n",
       "      <th>fertility</th>\n",
       "      <th>life</th>\n",
       "      <th>population</th>\n",
       "      <th>child_mortality</th>\n",
       "      <th>gdp</th>\n",
       "      <th>region</th>\n",
       "    </tr>\n",
       "    <tr>\n",
       "      <th>Country</th>\n",
       "      <th></th>\n",
       "      <th></th>\n",
       "      <th></th>\n",
       "      <th></th>\n",
       "      <th></th>\n",
       "      <th></th>\n",
       "    </tr>\n",
       "  </thead>\n",
       "  <tbody>\n",
       "    <tr>\n",
       "      <th>Afghanistan</th>\n",
       "      <td>7.669</td>\n",
       "      <td>41.242</td>\n",
       "      <td>14185729.0</td>\n",
       "      <td>249.10</td>\n",
       "      <td>1158.0</td>\n",
       "      <td>South Asia</td>\n",
       "    </tr>\n",
       "    <tr>\n",
       "      <th>Albania</th>\n",
       "      <td>3.678</td>\n",
       "      <td>70.218</td>\n",
       "      <td>2671300.0</td>\n",
       "      <td>78.60</td>\n",
       "      <td>4218.0</td>\n",
       "      <td>Europe &amp; Central Asia</td>\n",
       "    </tr>\n",
       "    <tr>\n",
       "      <th>Algeria</th>\n",
       "      <td>6.889</td>\n",
       "      <td>58.198</td>\n",
       "      <td>18811199.0</td>\n",
       "      <td>148.00</td>\n",
       "      <td>10166.0</td>\n",
       "      <td>Middle East &amp; North Africa</td>\n",
       "    </tr>\n",
       "    <tr>\n",
       "      <th>Angola</th>\n",
       "      <td>7.200</td>\n",
       "      <td>40.182</td>\n",
       "      <td>7638420.0</td>\n",
       "      <td>234.10</td>\n",
       "      <td>4443.0</td>\n",
       "      <td>Sub-Saharan Africa</td>\n",
       "    </tr>\n",
       "    <tr>\n",
       "      <th>Antigua and Barbuda</th>\n",
       "      <td>2.115</td>\n",
       "      <td>68.873</td>\n",
       "      <td>70228.0</td>\n",
       "      <td>37.53</td>\n",
       "      <td>8169.0</td>\n",
       "      <td>America</td>\n",
       "    </tr>\n",
       "  </tbody>\n",
       "</table>\n",
       "</div>"
      ],
      "text/plain": [
       "                     fertility    life  population  child_mortality      gdp  \\\n",
       "Country                                                                        \n",
       "Afghanistan              7.669  41.242  14185729.0           249.10   1158.0   \n",
       "Albania                  3.678  70.218   2671300.0            78.60   4218.0   \n",
       "Algeria                  6.889  58.198  18811199.0           148.00  10166.0   \n",
       "Angola                   7.200  40.182   7638420.0           234.10   4443.0   \n",
       "Antigua and Barbuda      2.115  68.873     70228.0            37.53   8169.0   \n",
       "\n",
       "                                         region  \n",
       "Country                                          \n",
       "Afghanistan                          South Asia  \n",
       "Albania                   Europe & Central Asia  \n",
       "Algeria              Middle East & North Africa  \n",
       "Angola                       Sub-Saharan Africa  \n",
       "Antigua and Barbuda                     America  "
      ]
     },
     "execution_count": 22,
     "metadata": {},
     "output_type": "execute_result"
    }
   ],
   "source": [
    "GM_1980.set_index('Country', inplace=True, drop=True)\n",
    "GM_1980.head()"
   ]
  },
  {
   "cell_type": "markdown",
   "metadata": {},
   "source": [
    "Das sieht doch schon einmal besser aus! Das selbe Resultat hätten wir auch mit dem mächtigen `groupby`-Befehl erreicht. Er gruppiert den Datensatz nach den Werten eines Merkmals. Mit dem Befehl `get_group` kann denn jede gewünschte Gruppe extrahiert werden.  "
   ]
  },
  {
   "cell_type": "code",
   "execution_count": 23,
   "metadata": {},
   "outputs": [
    {
     "data": {
      "text/html": [
       "<div>\n",
       "<style>\n",
       "    .dataframe thead tr:only-child th {\n",
       "        text-align: right;\n",
       "    }\n",
       "\n",
       "    .dataframe thead th {\n",
       "        text-align: left;\n",
       "    }\n",
       "\n",
       "    .dataframe tbody tr th {\n",
       "        vertical-align: top;\n",
       "    }\n",
       "</style>\n",
       "<table border=\"1\" class=\"dataframe\">\n",
       "  <thead>\n",
       "    <tr style=\"text-align: right;\">\n",
       "      <th></th>\n",
       "      <th>fertility</th>\n",
       "      <th>life</th>\n",
       "      <th>population</th>\n",
       "      <th>child_mortality</th>\n",
       "      <th>gdp</th>\n",
       "      <th>region</th>\n",
       "    </tr>\n",
       "    <tr>\n",
       "      <th>Country</th>\n",
       "      <th></th>\n",
       "      <th></th>\n",
       "      <th></th>\n",
       "      <th></th>\n",
       "      <th></th>\n",
       "      <th></th>\n",
       "    </tr>\n",
       "  </thead>\n",
       "  <tbody>\n",
       "    <tr>\n",
       "      <th>Afghanistan</th>\n",
       "      <td>7.669</td>\n",
       "      <td>41.242</td>\n",
       "      <td>14185729.0</td>\n",
       "      <td>249.10</td>\n",
       "      <td>1158.0</td>\n",
       "      <td>South Asia</td>\n",
       "    </tr>\n",
       "    <tr>\n",
       "      <th>Albania</th>\n",
       "      <td>3.678</td>\n",
       "      <td>70.218</td>\n",
       "      <td>2671300.0</td>\n",
       "      <td>78.60</td>\n",
       "      <td>4218.0</td>\n",
       "      <td>Europe &amp; Central Asia</td>\n",
       "    </tr>\n",
       "    <tr>\n",
       "      <th>Algeria</th>\n",
       "      <td>6.889</td>\n",
       "      <td>58.198</td>\n",
       "      <td>18811199.0</td>\n",
       "      <td>148.00</td>\n",
       "      <td>10166.0</td>\n",
       "      <td>Middle East &amp; North Africa</td>\n",
       "    </tr>\n",
       "    <tr>\n",
       "      <th>Angola</th>\n",
       "      <td>7.200</td>\n",
       "      <td>40.182</td>\n",
       "      <td>7638420.0</td>\n",
       "      <td>234.10</td>\n",
       "      <td>4443.0</td>\n",
       "      <td>Sub-Saharan Africa</td>\n",
       "    </tr>\n",
       "    <tr>\n",
       "      <th>Antigua and Barbuda</th>\n",
       "      <td>2.115</td>\n",
       "      <td>68.873</td>\n",
       "      <td>70228.0</td>\n",
       "      <td>37.53</td>\n",
       "      <td>8169.0</td>\n",
       "      <td>America</td>\n",
       "    </tr>\n",
       "  </tbody>\n",
       "</table>\n",
       "</div>"
      ],
      "text/plain": [
       "                     fertility    life  population  child_mortality      gdp  \\\n",
       "Country                                                                        \n",
       "Afghanistan              7.669  41.242  14185729.0           249.10   1158.0   \n",
       "Albania                  3.678  70.218   2671300.0            78.60   4218.0   \n",
       "Algeria                  6.889  58.198  18811199.0           148.00  10166.0   \n",
       "Angola                   7.200  40.182   7638420.0           234.10   4443.0   \n",
       "Antigua and Barbuda      2.115  68.873     70228.0            37.53   8169.0   \n",
       "\n",
       "                                         region  \n",
       "Country                                          \n",
       "Afghanistan                          South Asia  \n",
       "Albania                   Europe & Central Asia  \n",
       "Algeria              Middle East & North Africa  \n",
       "Angola                       Sub-Saharan Africa  \n",
       "Antigua and Barbuda                     America  "
      ]
     },
     "execution_count": 23,
     "metadata": {},
     "output_type": "execute_result"
    }
   ],
   "source": [
    "GM_1980_v1 = GM.groupby('Year').get_group(1980)\n",
    "GM_1980 = GM_1980_v1.drop('Year', axis=1).set_index('Country', drop=True)\n",
    "GM_1980.head()"
   ]
  },
  {
   "cell_type": "markdown",
   "metadata": {},
   "source": [
    "Auf die gruppierten Variabeln können jetzt z.B. statistisch Merkmale angewendet werden. Wir führen dies am Beispiel des Mittelwerts vor. Wir gruppieren den Datensatz `GM_1980` nach dem Kontinent (`region`) und berechnen den Mittelwert in den Gruppen."
   ]
  },
  {
   "cell_type": "code",
   "execution_count": 25,
   "metadata": {},
   "outputs": [
    {
     "data": {
      "text/html": [
       "<div>\n",
       "<style>\n",
       "    .dataframe thead tr:only-child th {\n",
       "        text-align: right;\n",
       "    }\n",
       "\n",
       "    .dataframe thead th {\n",
       "        text-align: left;\n",
       "    }\n",
       "\n",
       "    .dataframe tbody tr th {\n",
       "        vertical-align: top;\n",
       "    }\n",
       "</style>\n",
       "<table border=\"1\" class=\"dataframe\">\n",
       "  <thead>\n",
       "    <tr style=\"text-align: right;\">\n",
       "      <th></th>\n",
       "      <th>fertility</th>\n",
       "      <th>life</th>\n",
       "      <th>population</th>\n",
       "      <th>child_mortality</th>\n",
       "      <th>gdp</th>\n",
       "    </tr>\n",
       "    <tr>\n",
       "      <th>region</th>\n",
       "      <th></th>\n",
       "      <th></th>\n",
       "      <th></th>\n",
       "      <th></th>\n",
       "      <th></th>\n",
       "    </tr>\n",
       "  </thead>\n",
       "  <tbody>\n",
       "    <tr>\n",
       "      <th>America</th>\n",
       "      <td>3.817075</td>\n",
       "      <td>66.642225</td>\n",
       "      <td>1.541232e+07</td>\n",
       "      <td>60.675278</td>\n",
       "      <td>10507.156250</td>\n",
       "    </tr>\n",
       "    <tr>\n",
       "      <th>East Asia &amp; Pacific</th>\n",
       "      <td>4.096585</td>\n",
       "      <td>62.745599</td>\n",
       "      <td>4.876455e+07</td>\n",
       "      <td>73.524643</td>\n",
       "      <td>11875.576923</td>\n",
       "    </tr>\n",
       "    <tr>\n",
       "      <th>Europe &amp; Central Asia</th>\n",
       "      <td>2.382813</td>\n",
       "      <td>70.556464</td>\n",
       "      <td>1.555111e+07</td>\n",
       "      <td>37.085208</td>\n",
       "      <td>16360.750000</td>\n",
       "    </tr>\n",
       "    <tr>\n",
       "      <th>Middle East &amp; North Africa</th>\n",
       "      <td>6.260905</td>\n",
       "      <td>62.244190</td>\n",
       "      <td>8.896094e+06</td>\n",
       "      <td>87.467000</td>\n",
       "      <td>37731.526316</td>\n",
       "    </tr>\n",
       "    <tr>\n",
       "      <th>South Asia</th>\n",
       "      <td>6.003875</td>\n",
       "      <td>52.826250</td>\n",
       "      <td>1.132596e+08</td>\n",
       "      <td>173.937500</td>\n",
       "      <td>1533.625000</td>\n",
       "    </tr>\n",
       "    <tr>\n",
       "      <th>Sub-Saharan Africa</th>\n",
       "      <td>6.565760</td>\n",
       "      <td>50.693020</td>\n",
       "      <td>7.789134e+06</td>\n",
       "      <td>179.755102</td>\n",
       "      <td>3059.851064</td>\n",
       "    </tr>\n",
       "  </tbody>\n",
       "</table>\n",
       "</div>"
      ],
      "text/plain": [
       "                            fertility       life    population  \\\n",
       "region                                                           \n",
       "America                      3.817075  66.642225  1.541232e+07   \n",
       "East Asia & Pacific          4.096585  62.745599  4.876455e+07   \n",
       "Europe & Central Asia        2.382813  70.556464  1.555111e+07   \n",
       "Middle East & North Africa   6.260905  62.244190  8.896094e+06   \n",
       "South Asia                   6.003875  52.826250  1.132596e+08   \n",
       "Sub-Saharan Africa           6.565760  50.693020  7.789134e+06   \n",
       "\n",
       "                            child_mortality           gdp  \n",
       "region                                                     \n",
       "America                           60.675278  10507.156250  \n",
       "East Asia & Pacific               73.524643  11875.576923  \n",
       "Europe & Central Asia             37.085208  16360.750000  \n",
       "Middle East & North Africa        87.467000  37731.526316  \n",
       "South Asia                       173.937500   1533.625000  \n",
       "Sub-Saharan Africa               179.755102   3059.851064  "
      ]
     },
     "execution_count": 25,
     "metadata": {},
     "output_type": "execute_result"
    }
   ],
   "source": [
    "GM_1980.groupby('region').mean()"
   ]
  },
  {
   "cell_type": "markdown",
   "metadata": {},
   "source": [
    "Mit dem Datensatz können nun erste Visualisierungen durchgeführt werden, wobei wir in der nächsten Lektion diese wichtige Werkzeug der Datenanalyse vertieft kennen lernen werden. Hier beginnen wir mit einem `Scatter-Plot`, den wir mit dem Paket `seaborn` erzeugen (dazu später mehr)."
   ]
  },
  {
   "cell_type": "code",
   "execution_count": 53,
   "metadata": {},
   "outputs": [
    {
     "data": {
      "image/png": "[encoded data removed]",
      "text/plain": [
       "<matplotlib.figure.Figure at 0x25f3dcd4518>"
      ]
     },
     "metadata": {},
     "output_type": "display_data"
    }
   ],
   "source": [
    "import matplotlib.pyplot as plt\n",
    "import seaborn as sns\n",
    "\n",
    "sns.lmplot(\"fertility\", \"life\", hue=\"region\", data = GM_1980, fit_reg=False)\n",
    "plt.title(\"Fruchtbarkeit vs. Lebenserwartung\")\n",
    "plt.show()"
   ]
  }
 ],
 "metadata": {
  "kernelspec": {
   "display_name": "Python 3",
   "language": "python",
   "name": "python3"
  },
  "language_info": {
   "codemirror_mode": {
    "name": "ipython",
    "version": 3
   },
   "file_extension": ".py",
   "mimetype": "text/x-python",
   "name": "python",
   "nbconvert_exporter": "python",
   "pygments_lexer": "ipython3",
   "version": "3.6.1"
  }
 },
 "nbformat": 4,
 "nbformat_minor": 2
}
